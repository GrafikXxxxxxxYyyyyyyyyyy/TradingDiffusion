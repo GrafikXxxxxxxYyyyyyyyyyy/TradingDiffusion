{
 "cells": [
  {
   "cell_type": "markdown",
   "id": "e2e8a633",
   "metadata": {},
   "source": [
    "### Получаем датасет"
   ]
  },
  {
   "cell_type": "code",
   "execution_count": 1,
   "id": "c7d3a23b",
   "metadata": {},
   "outputs": [
    {
     "name": "stderr",
     "output_type": "stream",
     "text": [
      "/Users/honeysuckle/dev/TradingDiffusion/.TradingGDT_env/lib/python3.11/site-packages/tqdm/auto.py:21: TqdmWarning: IProgress not found. Please update jupyter and ipywidgets. See https://ipywidgets.readthedocs.io/en/stable/user_install.html\n",
      "  from .autonotebook import tqdm as notebook_tqdm\n"
     ]
    },
    {
     "name": "stdout",
     "output_type": "stream",
     "text": [
      "Found 507130 samples for train mode\n"
     ]
    }
   ],
   "source": [
    "from src.utils.dataset import TradingDataset, TradingNormalizer\n",
    "\n",
    "normalizer = TradingNormalizer(method='log_returns', history_len=256)\n",
    "\n",
    "dataset = TradingDataset(\n",
    "    data_path='data/',\n",
    "    mode='train',\n",
    "    history_len=256, \n",
    "    target_len=32,\n",
    "    normalizer=normalizer,\n",
    ")"
   ]
  },
  {
   "cell_type": "markdown",
   "id": "2827eb25",
   "metadata": {},
   "source": [
    "### Загружаем модель"
   ]
  },
  {
   "cell_type": "code",
   "execution_count": 2,
   "id": "6ea537e1",
   "metadata": {},
   "outputs": [
    {
     "name": "stdout",
     "output_type": "stream",
     "text": [
      "Feature extractor успешно загружен\n"
     ]
    }
   ],
   "source": [
    "from models.diffusion_model import TradingGDTModel\n",
    "\n",
    "# model = TradingGDTModel.from_config('src/transformer/mmdit.json', device='mps')\n",
    "model = TradingGDTModel.from_config('src/unet/unet.json', device='mps')"
   ]
  },
  {
   "cell_type": "code",
   "execution_count": 3,
   "id": "b7bf79a2",
   "metadata": {},
   "outputs": [
    {
     "data": {
      "text/plain": [
       "253409537"
      ]
     },
     "execution_count": 3,
     "metadata": {},
     "output_type": "execute_result"
    }
   ],
   "source": [
    "sum([p.numel() for p in model.parameters()])"
   ]
  },
  {
   "cell_type": "markdown",
   "id": "85763ed8",
   "metadata": {},
   "source": [
    "### Настраиваем параметры"
   ]
  },
  {
   "cell_type": "code",
   "execution_count": 4,
   "id": "547d1374",
   "metadata": {},
   "outputs": [],
   "source": [
    "from pipelines.train_pipeline import TradingGDTTrainingArgs, TradingGDTTrainer\n",
    "\n",
    "args = TradingGDTTrainingArgs(\n",
    "    train_batch_size=8,\n",
    "    output_dir='pretrained-models',\n",
    "    learning_rate=1e-3,\n",
    "    num_train_epochs=1,\n",
    "    save_steps=1000,\n",
    ")\n",
    "\n",
    "trainer = TradingGDTTrainer(\n",
    "    model=model,\n",
    "    args=args,\n",
    "    train_dataset=dataset,\n",
    ")"
   ]
  },
  {
   "cell_type": "code",
   "execution_count": null,
   "id": "09eb4f28",
   "metadata": {},
   "outputs": [
    {
     "name": "stdout",
     "output_type": "stream",
     "text": [
      "Инициализирован TensorBoard логгер. Логи будут сохранены в runs/trading_experiment/run_1757157039\n"
     ]
    },
    {
     "name": "stderr",
     "output_type": "stream",
     "text": [
      "Training:   0%|          | 41/63392 [02:45<111:14:34,  6.32s/it, Epoch=1/1, Loss=0.899831, Avg_Loss=1.110708]"
     ]
    }
   ],
   "source": [
    "trainer.train()"
   ]
  },
  {
   "cell_type": "code",
   "execution_count": null,
   "id": "1be0ce7f",
   "metadata": {},
   "outputs": [],
   "source": []
  }
 ],
 "metadata": {
  "kernelspec": {
   "display_name": ".TradingGDT_env",
   "language": "python",
   "name": "python3"
  },
  "language_info": {
   "codemirror_mode": {
    "name": "ipython",
    "version": 3
   },
   "file_extension": ".py",
   "mimetype": "text/x-python",
   "name": "python",
   "nbconvert_exporter": "python",
   "pygments_lexer": "ipython3",
   "version": "3.11.2"
  }
 },
 "nbformat": 4,
 "nbformat_minor": 5
}
